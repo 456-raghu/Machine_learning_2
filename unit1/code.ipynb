{
 "cells": [
  {
   "cell_type": "markdown",
   "metadata": {},
   "source": [
    "### Operations on csv file"
   ]
  },
  {
   "cell_type": "markdown",
   "metadata": {},
   "source": [
    "<strong>Methods</strong>"
   ]
  },
  {
   "cell_type": "code",
   "execution_count": 2,
   "metadata": {},
   "outputs": [
    {
     "name": "stdout",
     "output_type": "stream",
     "text": [
      "['sno', 'fruit', 'color', 'price']\n",
      "['1', 'Apple', 'red', '110.85']\n",
      "['2', 'Banana', 'yellow', '50.12']\n",
      "['3', 'Mango', 'Yellow', '70.29']\n",
      "['4', 'Orange', 'organe', '80.00']\n",
      "['5', 'kiwi', 'green', '150.00']\n",
      "['6', 'pineapple', 'yellow', '90.00']\n",
      "['7', 'guava', 'green', '20.00']\n"
     ]
    },
    {
     "data": {
      "text/plain": [
       "defaultdict(list,\n",
       "            {'sno': ['1', '2', '3', '4', '5', '6', '7'],\n",
       "             'fruit': ['Apple',\n",
       "              'Banana',\n",
       "              'Mango',\n",
       "              'Orange',\n",
       "              'kiwi',\n",
       "              'pineapple',\n",
       "              'guava'],\n",
       "             'color': ['red',\n",
       "              'yellow',\n",
       "              'Yellow',\n",
       "              'organe',\n",
       "              'green',\n",
       "              'yellow',\n",
       "              'green'],\n",
       "             'price': ['110.85',\n",
       "              '50.12',\n",
       "              '70.29',\n",
       "              '80.00',\n",
       "              '150.00',\n",
       "              '90.00',\n",
       "              '20.00']})"
      ]
     },
     "execution_count": 2,
     "metadata": {},
     "output_type": "execute_result"
    }
   ],
   "source": [
    "# Method 1\n",
    "\n",
    "from collections import defaultdict\n",
    "import csv\n",
    "\n",
    "csv_rows = []\n",
    "csv_attr_dict = defaultdict(list)  # Initialize defaultdict with list factory\n",
    "csv_reader = None\n",
    "\n",
    "## Read the data from the CSV\n",
    "with open('/workspaces/Machine_learning_2/unit1/fruits.csv', 'r') as file:\n",
    "    csv_reader = csv.reader(file, delimiter=',')\n",
    "\n",
    "    ## Iterate and extract data\n",
    "    for row in csv_reader:\n",
    "        print(row)\n",
    "        csv_rows.append(row)\n",
    "\n",
    "## Iterate and add attributes to the list\n",
    "for row in csv_rows[1:]:\n",
    "    csv_attr_dict['sno'].append(row[0])\n",
    "    csv_attr_dict['fruit'].append(row[1])\n",
    "    csv_attr_dict['color'].append(row[2])\n",
    "    csv_attr_dict['price'].append(row[3])\n",
    "\n",
    "csv_attr_dict"
   ]
  },
  {
   "cell_type": "code",
   "execution_count": 3,
   "metadata": {},
   "outputs": [
    {
     "data": {
      "text/html": [
       "<div>\n",
       "<style scoped>\n",
       "    .dataframe tbody tr th:only-of-type {\n",
       "        vertical-align: middle;\n",
       "    }\n",
       "\n",
       "    .dataframe tbody tr th {\n",
       "        vertical-align: top;\n",
       "    }\n",
       "\n",
       "    .dataframe thead th {\n",
       "        text-align: right;\n",
       "    }\n",
       "</style>\n",
       "<table border=\"1\" class=\"dataframe\">\n",
       "  <thead>\n",
       "    <tr style=\"text-align: right;\">\n",
       "      <th></th>\n",
       "      <th>sno</th>\n",
       "      <th>fruit</th>\n",
       "      <th>color</th>\n",
       "      <th>price</th>\n",
       "    </tr>\n",
       "  </thead>\n",
       "  <tbody>\n",
       "    <tr>\n",
       "      <th>0</th>\n",
       "      <td>1</td>\n",
       "      <td>Apple</td>\n",
       "      <td>red</td>\n",
       "      <td>110.85</td>\n",
       "    </tr>\n",
       "    <tr>\n",
       "      <th>1</th>\n",
       "      <td>2</td>\n",
       "      <td>Banana</td>\n",
       "      <td>yellow</td>\n",
       "      <td>50.12</td>\n",
       "    </tr>\n",
       "    <tr>\n",
       "      <th>2</th>\n",
       "      <td>3</td>\n",
       "      <td>Mango</td>\n",
       "      <td>Yellow</td>\n",
       "      <td>70.29</td>\n",
       "    </tr>\n",
       "    <tr>\n",
       "      <th>3</th>\n",
       "      <td>4</td>\n",
       "      <td>Orange</td>\n",
       "      <td>organe</td>\n",
       "      <td>80.00</td>\n",
       "    </tr>\n",
       "    <tr>\n",
       "      <th>4</th>\n",
       "      <td>5</td>\n",
       "      <td>kiwi</td>\n",
       "      <td>green</td>\n",
       "      <td>150.00</td>\n",
       "    </tr>\n",
       "    <tr>\n",
       "      <th>5</th>\n",
       "      <td>6</td>\n",
       "      <td>pineapple</td>\n",
       "      <td>yellow</td>\n",
       "      <td>90.00</td>\n",
       "    </tr>\n",
       "    <tr>\n",
       "      <th>6</th>\n",
       "      <td>7</td>\n",
       "      <td>guava</td>\n",
       "      <td>green</td>\n",
       "      <td>20.00</td>\n",
       "    </tr>\n",
       "  </tbody>\n",
       "</table>\n",
       "</div>"
      ],
      "text/plain": [
       "   sno      fruit   color   price\n",
       "0    1      Apple     red  110.85\n",
       "1    2     Banana  yellow   50.12\n",
       "2    3      Mango  Yellow   70.29\n",
       "3    4     Orange  organe   80.00\n",
       "4    5       kiwi   green  150.00\n",
       "5    6  pineapple  yellow   90.00\n",
       "6    7      guava   green   20.00"
      ]
     },
     "execution_count": 3,
     "metadata": {},
     "output_type": "execute_result"
    }
   ],
   "source": [
    "# Method 2\n",
    "\n",
    "# reading the data from csv\n",
    "import pandas as pd # type: ignore\n",
    "\n",
    "df = pd.read_csv(\"/workspaces/Machine_learning_2/unit1/fruits.csv\")\n",
    "df"
   ]
  },
  {
   "cell_type": "markdown",
   "metadata": {},
   "source": [
    "### Json"
   ]
  },
  {
   "cell_type": "code",
   "execution_count": 1,
   "metadata": {},
   "outputs": [
    {
     "data": {
      "text/plain": [
       "{'glossary': {'title': 'example glossary',\n",
       "  'GlossDiv': {'title': 'S',\n",
       "   'GlossList': {'GlossEntry': {'ID': 'SGML',\n",
       "     'SortAs': 'SGML',\n",
       "     'GlossTerm': 'Standard Genreralized Markup language',\n",
       "     'Acronym': 'SGML',\n",
       "     'Abbrev': 'ISO 8879:1986',\n",
       "     'GlossDef': {'para': 'A meta-markup language, used to create markup languages such as Doc Book,',\n",
       "      'GlossSeeAlso': ['GML', 'XML']},\n",
       "     'GlossSee': 'markup'}}}}}"
      ]
     },
     "execution_count": 1,
     "metadata": {},
     "output_type": "execute_result"
    }
   ],
   "source": [
    "# Method 1\n",
    "\n",
    "import json\n",
    "\n",
    "json_file_data = open(\"/workspaces/Machine_learning_2/unit1/data.json\").read()\n",
    "json_data = json.loads(json_file_data)\n",
    "\n",
    "json_data"
   ]
  },
  {
   "cell_type": "code",
   "execution_count": 6,
   "metadata": {},
   "outputs": [
    {
     "name": "stdout",
     "output_type": "stream",
     "text": [
      "                                                   glossary\n",
      "title                                      example glossary\n",
      "GlossDiv  {'title': 'S', 'GlossList': {'GlossEntry': {'I...\n"
     ]
    }
   ],
   "source": [
    "# Method 2\n",
    "import pandas as pd # type: ignore\n",
    "df = pd.read_json(\"/workspaces/Machine_learning_2/unit1/data.json\",orient=\"records\")\n",
    "print(df)"
   ]
  },
  {
   "cell_type": "code",
   "execution_count": null,
   "metadata": {},
   "outputs": [],
   "source": []
  }
 ],
 "metadata": {
  "kernelspec": {
   "display_name": "Python 3 (ipykernel)",
   "language": "python",
   "name": "python3"
  },
  "language_info": {
   "codemirror_mode": {
    "name": "ipython",
    "version": 3
   },
   "file_extension": ".py",
   "mimetype": "text/x-python",
   "name": "python",
   "nbconvert_exporter": "python",
   "pygments_lexer": "ipython3",
   "version": "3.10.13"
  }
 },
 "nbformat": 4,
 "nbformat_minor": 2
}
